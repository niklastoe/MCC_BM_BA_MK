{
 "cells": [
  {
   "cell_type": "markdown",
   "metadata": {},
   "source": [
    "# Compare MCC to BM, BA and MK"
   ]
  },
  {
   "cell_type": "markdown",
   "metadata": {},
   "source": [
    "# Packages"
   ]
  },
  {
   "cell_type": "code",
   "execution_count": 1,
   "metadata": {
    "collapsed": true
   },
   "outputs": [],
   "source": [
    "import matplotlib.pyplot as plt\n",
    "%matplotlib inline\n",
    "plt.rc('font', **{'size': 9})\n",
    "from matplotlib.ticker import MultipleLocator\n",
    "import numpy as np\n",
    "import pandas as pd\n",
    "from scipy import interpolate\n",
    "\n",
    "from pareto import pareto_frontier_multi"
   ]
  },
  {
   "cell_type": "markdown",
   "metadata": {},
   "source": [
    "# Sample confusion matrices by varying TPR, TNR and prevalence"
   ]
  },
  {
   "cell_type": "code",
   "execution_count": 2,
   "metadata": {
    "collapsed": true
   },
   "outputs": [],
   "source": [
    "stepsize = 0.005\n",
    "vals = np.arange(0, 1. + stepsize, stepsize)\n",
    "N = len(vals) - 1"
   ]
  },
  {
   "cell_type": "code",
   "execution_count": 3,
   "metadata": {
    "collapsed": true
   },
   "outputs": [],
   "source": [
    "TP = []\n",
    "TN = []\n",
    "FN = []\n",
    "FP = []\n",
    "\n",
    "for prev in vals:\n",
    "    for TPR in vals:\n",
    "        for TNR in vals:\n",
    "            TP.append(prev*TPR)\n",
    "            TN.append((1-prev) * TNR)\n",
    "            FN.append(prev*(1-TPR))\n",
    "            FP.append((1-prev)*(1-TNR))\n",
    "            \n",
    "TP = np.array(TP)\n",
    "TN = np.array(TN)\n",
    "FN = np.array(FN)\n",
    "FP = np.array(FP)"
   ]
  },
  {
   "cell_type": "markdown",
   "metadata": {},
   "source": [
    "# Calculate metrics for sampled confusion matrices"
   ]
  },
  {
   "cell_type": "code",
   "execution_count": 4,
   "metadata": {},
   "outputs": [
    {
     "name": "stderr",
     "output_type": "stream",
     "text": [
      "/home/niklas/anaconda2/lib/python2.7/site-packages/ipykernel_launcher.py:4: RuntimeWarning: invalid value encountered in divide\n",
      "  after removing the cwd from sys.path.\n"
     ]
    }
   ],
   "source": [
    "MCC_numerator = TP * TN - FP * FN\n",
    "MCC_denominator = np.sqrt((TP +FP) * (TP + FN) * (TN + FP) * (TN +FN))\n",
    "\n",
    "MCC = MCC_numerator / MCC_denominator"
   ]
  },
  {
   "cell_type": "code",
   "execution_count": 5,
   "metadata": {},
   "outputs": [
    {
     "name": "stderr",
     "output_type": "stream",
     "text": [
      "/home/niklas/anaconda2/lib/python2.7/site-packages/ipykernel_launcher.py:1: RuntimeWarning: invalid value encountered in divide\n",
      "  \"\"\"Entry point for launching an IPython kernel.\n"
     ]
    }
   ],
   "source": [
    "BM = (TP / (TP + FN)) + (TN / (TN + FP)) - 1"
   ]
  },
  {
   "cell_type": "code",
   "execution_count": 6,
   "metadata": {
    "collapsed": true
   },
   "outputs": [],
   "source": [
    "BA = (BM + 1) / 2 "
   ]
  },
  {
   "cell_type": "code",
   "execution_count": 7,
   "metadata": {},
   "outputs": [
    {
     "name": "stderr",
     "output_type": "stream",
     "text": [
      "/home/niklas/anaconda2/lib/python2.7/site-packages/ipykernel_launcher.py:1: RuntimeWarning: invalid value encountered in divide\n",
      "  \"\"\"Entry point for launching an IPython kernel.\n"
     ]
    }
   ],
   "source": [
    "MK = (TP / (TP + FP)) + (TN / (TN + FN)) - 1"
   ]
  },
  {
   "cell_type": "markdown",
   "metadata": {},
   "source": [
    "# Plotting"
   ]
  },
  {
   "cell_type": "markdown",
   "metadata": {},
   "source": [
    "## Pareto plots\n",
    "\n",
    "Instead of plotting all the samples, we determine the upper left and lower right Pareto fronts of the samples and color everything in between.\n",
    "This plot is much more efficient than plotting more than 8 million samples, especially if it is stored as a vector graphic."
   ]
  },
  {
   "cell_type": "code",
   "execution_count": 8,
   "metadata": {
    "collapsed": true
   },
   "outputs": [],
   "source": [
    "def interpolate_plot(x=MCC, y=BM):\n",
    "\n",
    "    df = pd.DataFrame({'x': x, 'y': y})\n",
    "    curr_df = df.drop_duplicates().dropna()\n",
    "    upper_left = pareto_frontier_multi(curr_df[['x', 'y']].values, sign_vector=[-1, 1])\n",
    "    f_upper_left = interpolate.interp1d(upper_left[:,0], upper_left[:,1])\n",
    "\n",
    "    lower_right = pareto_frontier_multi(curr_df.values, sign_vector=[1, -1])\n",
    "    f_lower_right = interpolate.interp1d(lower_right[:,0], lower_right[:,1])\n",
    "\n",
    "    return f_upper_left, f_lower_right"
   ]
  },
  {
   "cell_type": "markdown",
   "metadata": {},
   "source": [
    "Get pareto fronts for BM and MK. BA is not necessary, we can reuse the one from BM because of their relationship."
   ]
  },
  {
   "cell_type": "code",
   "execution_count": 9,
   "metadata": {
    "collapsed": true
   },
   "outputs": [],
   "source": [
    "BM_ul, BM_lr = interpolate_plot()\n",
    "MK_ul, MK_lr = interpolate_plot(y=MK)"
   ]
  },
  {
   "cell_type": "code",
   "execution_count": 10,
   "metadata": {
    "collapsed": true
   },
   "outputs": [],
   "source": [
    "x_step = 0.005\n",
    "x_val = np.arange(-1, 1, x_step)"
   ]
  },
  {
   "cell_type": "code",
   "execution_count": 11,
   "metadata": {},
   "outputs": [
    {
     "data": {
      "image/png": "[encoded data removed]",
      "text/plain": [
       "<Figure size 655.2x216 with 3 Axes>"
      ]
     },
     "metadata": {},
     "output_type": "display_data"
    }
   ],
   "source": [
    "fig, axes = plt.subplots(ncols=3, sharex=True, figsize=(9.1, 3))\n",
    "\n",
    "for i in range(3):\n",
    "    axes[i].set_xlabel('Matthews correlation coefficient \\n (MCC)')\n",
    "    axes[i].grid(b=True, which='both')\n",
    "    axes[i].axis('equal')\n",
    "    axes[i].set_yticks(np.arange(-1.5, 2, 0.5))\n",
    "    axes[i].set_xlim(-1, 1)\n",
    "    axes[i].set_ylim(-1, 1)\n",
    "\n",
    "    if i == 1:\n",
    "        axes[i].set_yticks(np.arange(-1, 2, 1))\n",
    "        axes[i].set_yticklabels(np.arange(0, 1.5, 0.5))\n",
    "\n",
    "axes[0].fill_between(x_val, BM_ul(x_val), BM_lr(x_val), color='k')\n",
    "axes[0].set_ylabel(\"bookmaker's informedness (BM)\")\n",
    "axes[1].fill_between(x_val, BM_ul(x_val), BM_lr(x_val), color='k')\n",
    "axes[1].set_ylabel(\"balanced accuracy (BA)\")\n",
    "axes[2].fill_between(x_val, MK_ul(x_val), MK_lr(x_val), color='k')\n",
    "axes[2].set_ylabel(\"markedness (MK)\")\n",
    "\n",
    "for i in range(3):\n",
    "    axes[i].xaxis.set_minor_locator(MultipleLocator(0.125))\n",
    "    axes[i].yaxis.set_minor_locator(MultipleLocator(0.125))\n",
    "\n",
    "plt.subplots_adjust(wspace=0.5)\n",
    "\n",
    "plt.tight_layout()\n",
    "plt.savefig('MCC_vs_BM_BA_MK.eps')"
   ]
  },
  {
   "cell_type": "markdown",
   "metadata": {},
   "source": [
    "## Scatter plot\n",
    "\n",
    "The most natural way would be a scatter plot of all combinations of the metrics. \n",
    "Since we have millions of points, vector graphics of scatter plots become very large.\n",
    "If you want to try, you can find the code below."
   ]
  },
  {
   "cell_type": "code",
   "execution_count": 12,
   "metadata": {
    "collapsed": true
   },
   "outputs": [],
   "source": [
    "# fig, axes = plt.subplots(ncols=3, sharex=True, figsize=(9., 2.75))\n",
    "\n",
    "# axes[0].scatter(MCC, BM)\n",
    "# axes[0].set_ylabel(\"bookmaker's informedness (BM)\")\n",
    "# axes[1].scatter(MCC, BM)\n",
    "# axes[1].set_ylabel(\"balanced accuracy (BA)\")\n",
    "# axes[2].scatter(MCC, MK)\n",
    "# axes[2].set_ylabel(\"markedness (MK)\")\n",
    "\n",
    "# for i in range(3):\n",
    "#     axes[i].set_xlabel('Matthews correlation coefficient \\n (MCC)')\n",
    "#     axes[i].grid(b=True)\n",
    "#     axes[i].axis('equal')\n",
    "#     axes[i].set_yticks(np.arange(-1.5, 2, 0.5))\n",
    "    \n",
    "\n",
    "#     if i == 1:\n",
    "#         axes[i].set_yticks(np.arange(-1, 2, 1))\n",
    "#         axes[i].set_yticklabels(np.arange(0, 1.5, 0.5))\n",
    "\n",
    "# plt.subplots_adjust(wspace=0.5)\n",
    "\n",
    "# plt.tight_layout()\n",
    "# plt.savefig('MCC_vs_BM_BA_MK.png', dpi=300)"
   ]
  }
 ],
 "metadata": {
  "kernelspec": {
   "display_name": "Python 2",
   "language": "python",
   "name": "python2"
  },
  "language_info": {
   "codemirror_mode": {
    "name": "ipython",
    "version": 2
   },
   "file_extension": ".py",
   "mimetype": "text/x-python",
   "name": "python",
   "nbconvert_exporter": "python",
   "pygments_lexer": "ipython2",
   "version": "2.7.15"
  }
 },
 "nbformat": 4,
 "nbformat_minor": 2
}
