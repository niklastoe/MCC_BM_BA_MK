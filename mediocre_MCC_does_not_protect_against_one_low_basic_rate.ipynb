{
 "cells": [
  {
   "cell_type": "markdown",
   "metadata": {},
   "source": [
    "# Prove that mediocre MCC value does not guarantee that none of the basic rates is low\n",
    "\n",
    "If MCC=0.5, one of the basic rates can be quite low, for example 0.3."
   ]
  },
  {
   "cell_type": "code",
   "execution_count": 1,
   "metadata": {
    "collapsed": true
   },
   "outputs": [],
   "source": [
    "import numpy as np\n",
    "\n",
    "import pandas as pd\n",
    "\n",
    "import seaborn as sns\n",
    "import matplotlib.pyplot as plt\n",
    "%matplotlib inline"
   ]
  },
  {
   "cell_type": "code",
   "execution_count": 2,
   "metadata": {
    "collapsed": true
   },
   "outputs": [],
   "source": [
    "samples = 100\n",
    "stepsize = 1. / samples\n",
    "\n",
    "tpr = 1\n",
    "tnr = np.arange(0, 1 + stepsize, stepsize)\n",
    "prev = np.arange(0, 1 + stepsize, stepsize)"
   ]
  },
  {
   "cell_type": "code",
   "execution_count": 3,
   "metadata": {},
   "outputs": [
    {
     "name": "stderr",
     "output_type": "stream",
     "text": [
      "/home/niklas/anaconda2/lib/python2.7/site-packages/ipykernel_launcher.py:11: RuntimeWarning: invalid value encountered in double_scalars\n",
      "  # This is added back by InteractiveShellApp.init_path()\n"
     ]
    }
   ],
   "source": [
    "# ppv = np.zeros((samples + 1, samples + 1))\n",
    "# npv = np.zeros((samples + 1, samples + 1))\n",
    "\n",
    "metrics = []\n",
    "\n",
    "for x_idx, t in enumerate(tnr):\n",
    "    for y_idx, theta in enumerate(prev):\n",
    "        top = tpr * theta\n",
    "        bottom = top + (1-t)*(1-theta)\n",
    "        \n",
    "        ppv = top / bottom\n",
    "        \n",
    "        curr_metrics = {'TPR': 1, 'NPV': 1, 'PPV': ppv, 'TNR': t}\n",
    "        metrics.append(curr_metrics)"
   ]
  },
  {
   "cell_type": "code",
   "execution_count": 4,
   "metadata": {
    "collapsed": true
   },
   "outputs": [],
   "source": [
    "metrics = pd.DataFrame(metrics)\n",
    "metrics = metrics.drop_duplicates()\n",
    "\n",
    "MCC = np.sqrt(metrics.prod(axis=1)) - np.sqrt((1 - metrics).prod(axis=1))\n",
    "\n",
    "metrics['min'] = metrics.min(axis=1)\n",
    "metrics['MCC'] = MCC"
   ]
  },
  {
   "cell_type": "code",
   "execution_count": 5,
   "metadata": {
    "collapsed": true
   },
   "outputs": [],
   "source": [
    "x_val = np.arange(0, 1 + stepsize, stepsize)"
   ]
  },
  {
   "cell_type": "code",
   "execution_count": 6,
   "metadata": {},
   "outputs": [
    {
     "data": {
      "text/plain": [
       "Text(0,0.5,'lowest base rate')"
      ]
     },
     "execution_count": 6,
     "metadata": {},
     "output_type": "execute_result"
    },
    {
     "data": {
      "image/png": "[encoded data removed]",
      "text/plain": [
       "<Figure size 432x288 with 1 Axes>"
      ]
     },
     "metadata": {},
     "output_type": "display_data"
    }
   ],
   "source": [
    "plt.scatter(metrics['MCC'], metrics['min'])\n",
    "plt.plot(x_val, np.square(x_val), c='red', linewidth=3)\n",
    "plt.xlabel('MCC')\n",
    "plt.ylabel('lowest base rate')"
   ]
  },
  {
   "cell_type": "markdown",
   "metadata": {},
   "source": [
    "This proves that one base rate can be quite low if MCC is mediocre.\n",
    "MCC values are not directly comparable to other values. \n",
    "They need to be squared before we can compare them."
   ]
  }
 ],
 "metadata": {
  "kernelspec": {
   "display_name": "Python 2",
   "language": "python",
   "name": "python2"
  },
  "language_info": {
   "codemirror_mode": {
    "name": "ipython",
    "version": 2
   },
   "file_extension": ".py",
   "mimetype": "text/x-python",
   "name": "python",
   "nbconvert_exporter": "python",
   "pygments_lexer": "ipython2",
   "version": "2.7.15"
  }
 },
 "nbformat": 4,
 "nbformat_minor": 2
}
