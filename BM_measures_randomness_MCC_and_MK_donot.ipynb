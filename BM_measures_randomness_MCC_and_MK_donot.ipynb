{
 "cells": [
  {
   "cell_type": "markdown",
   "metadata": {},
   "source": [
    "# Prove that BM is the only metric that can determine how similar a classifier is to random prediction\n",
    "\n",
    "Matthews correlation coefficient (MCC) and Markedness (MK) are affected by prevalence. Bookmaker's informedness (BM) is not.\n",
    "In this notebook we simulate classifier results with known randomness to prove that BM is the only metric that truthfully measures how similar a classifier is to random guessing because it is independent of prevalence."
   ]
  },
  {
   "cell_type": "markdown",
   "metadata": {},
   "source": [
    "# Packages"
   ]
  },
  {
   "cell_type": "code",
   "execution_count": 1,
   "metadata": {},
   "outputs": [],
   "source": [
    "import matplotlib.pyplot as plt\n",
    "%matplotlib inline\n",
    "import numpy as np\n",
    "import pandas as pd\n",
    "import seaborn as sns\n",
    "from sklearn.metrics import matthews_corrcoef, balanced_accuracy_score\n",
    "import tqdm"
   ]
  },
  {
   "cell_type": "markdown",
   "metadata": {},
   "source": [
    "# Settings\n",
    "\n",
    "Define how many samples are predicted. \n",
    "More samples mean that metrics (MCC, BM and MK) will be reproduced more closely."
   ]
  },
  {
   "cell_type": "code",
   "execution_count": 2,
   "metadata": {},
   "outputs": [],
   "source": [
    "N = int(2e5)"
   ]
  },
  {
   "cell_type": "markdown",
   "metadata": {},
   "source": [
    "# Define Bookmaker's informedness and markedness"
   ]
  },
  {
   "cell_type": "code",
   "execution_count": 3,
   "metadata": {},
   "outputs": [],
   "source": [
    "def bm(gt, prediction):\n",
    "    ba = balanced_accuracy_score(gt, prediction)\n",
    "    return ba*2 - 1"
   ]
  },
  {
   "cell_type": "code",
   "execution_count": 4,
   "metadata": {},
   "outputs": [],
   "source": [
    "def mk(gt, prediction):\n",
    "    # see manuscript for deviation\n",
    "    curr_bm = bm(gt, prediction)\n",
    "    curr_mcc = matthews_corrcoef(gt, prediction)\n",
    "    \n",
    "    factor = curr_mcc / curr_bm\n",
    "    \n",
    "    mk = curr_bm * factor**2\n",
    "    return mk"
   ]
  },
  {
   "cell_type": "markdown",
   "metadata": {},
   "source": [
    "# Scan different values for prevalence, bias and lookup fraction"
   ]
  },
  {
   "cell_type": "markdown",
   "metadata": {},
   "source": [
    "define step size for prevalence and bias scan"
   ]
  },
  {
   "cell_type": "code",
   "execution_count": 5,
   "metadata": {},
   "outputs": [],
   "source": [
    "step = 0.05\n",
    "prevs = np.arange(step, 1, step)\n",
    "biases = np.arange(step, 1, step)"
   ]
  },
  {
   "cell_type": "code",
   "execution_count": 6,
   "metadata": {},
   "outputs": [],
   "source": [
    "# how many different levels of prevalence and bias are there?\n",
    "no_entries = len(prevs)"
   ]
  },
  {
   "cell_type": "markdown",
   "metadata": {},
   "source": [
    "Define a function that generates the ground truth reference classes as well as the predictions (with the right lookup_fraction and bias)."
   ]
  },
  {
   "cell_type": "code",
   "execution_count": 7,
   "metadata": {},
   "outputs": [],
   "source": [
    "def generate_classes_and_labels(lookup_fraction, prevalence, desired_bias):\n",
    "    # in order to reach the desired_bias, \n",
    "    # one needs adjust the bias in the random predictions to the prevalence in the copied entries\n",
    "    bias_for_remainder = (desired_bias - lookup_fraction * prevalence) / (1 - lookup_fraction)\n",
    "    \n",
    "    # some combinations of lookup_fraction and desired_bias are impossible to realize\n",
    "    # don't calculate anything if bias for remaineder would need to be above one or below zero\n",
    "    if bias_for_remainder > 1 or bias_for_remainder < 0:\n",
    "        return None, None\n",
    "    else:\n",
    "        # generate reference classes randomly\n",
    "        gt = np.random.binomial(1, prevalence, size=N)\n",
    "        \n",
    "        # lookup parts of the classes...\n",
    "        copied_entries = int(lookup_fraction * N)\n",
    "        lookedup = gt[:copied_entries]\n",
    "        \n",
    "        # ...and predict the remaining part (1-lookup_fraction) randomly...\n",
    "        random_prediction = np.random.binomial(1, bias_for_remainder, size=N - copied_entries)\n",
    "        # ...before merging the lookup part and the random predictions\n",
    "        improved_prediction = np.concatenate([lookedup, random_prediction])\n",
    "        return gt, improved_prediction"
   ]
  },
  {
   "cell_type": "code",
   "execution_count": 8,
   "metadata": {},
   "outputs": [
    {
     "name": "stderr",
     "output_type": "stream",
     "text": [
      "<ipython-input-8-8a80e1e88a54>:4: TqdmDeprecationWarning: This function will be removed in tqdm==5.0.0\n",
      "Please use `tqdm.notebook.tqdm` instead of `tqdm.tqdm_notebook`\n",
      "  for lookup_fraction in tqdm.tqdm_notebook([0.25, 0.5, 0.75]):\n"
     ]
    },
    {
     "data": {
      "application/vnd.jupyter.widget-view+json": {
       "model_id": "73bc71c2a78d446b810e2cfedc1118c0",
       "version_major": 2,
       "version_minor": 0
      },
      "text/plain": [
       "HBox(children=(FloatProgress(value=0.0, max=3.0), HTML(value='')))"
      ]
     },
     "metadata": {},
     "output_type": "display_data"
    },
    {
     "name": "stderr",
     "output_type": "stream",
     "text": [
      "<ipython-input-8-8a80e1e88a54>:12: TqdmDeprecationWarning: This function will be removed in tqdm==5.0.0\n",
      "Please use `tqdm.notebook.tqdm` instead of `tqdm.tqdm_notebook`\n",
      "  for a_idx, a in tqdm.tqdm_notebook(enumerate(prevs), total=no_entries):\n"
     ]
    },
    {
     "data": {
      "application/vnd.jupyter.widget-view+json": {
       "model_id": "0888e3d683214bea8069fdc0ca055762",
       "version_major": 2,
       "version_minor": 0
      },
      "text/plain": [
       "HBox(children=(FloatProgress(value=0.0, max=19.0), HTML(value='')))"
      ]
     },
     "metadata": {},
     "output_type": "display_data"
    },
    {
     "name": "stdout",
     "output_type": "stream",
     "text": [
      "\n"
     ]
    },
    {
     "data": {
      "application/vnd.jupyter.widget-view+json": {
       "model_id": "e4bac08ebeec4368b3280cd9ab669c88",
       "version_major": 2,
       "version_minor": 0
      },
      "text/plain": [
       "HBox(children=(FloatProgress(value=0.0, max=19.0), HTML(value='')))"
      ]
     },
     "metadata": {},
     "output_type": "display_data"
    },
    {
     "name": "stdout",
     "output_type": "stream",
     "text": [
      "\n"
     ]
    },
    {
     "data": {
      "application/vnd.jupyter.widget-view+json": {
       "model_id": "4e7358df01924aa2be086f89bcf6ddd8",
       "version_major": 2,
       "version_minor": 0
      },
      "text/plain": [
       "HBox(children=(FloatProgress(value=0.0, max=19.0), HTML(value='')))"
      ]
     },
     "metadata": {},
     "output_type": "display_data"
    },
    {
     "name": "stdout",
     "output_type": "stream",
     "text": [
      "\n",
      "\n"
     ]
    }
   ],
   "source": [
    "array_store = {}\n",
    "\n",
    "# iterate over three values for lookup_fractions\n",
    "for lookup_fraction in tqdm.tqdm_notebook([0.25, 0.5, 0.75]):\n",
    "\n",
    "    # prepare arrays to store metrics in for all combinations of prevalence and bias\n",
    "    bm_array = np.zeros((no_entries, no_entries))\n",
    "    mcc_array = np.zeros((no_entries, no_entries))\n",
    "    mk_array = np.zeros((no_entries, no_entries))\n",
    "\n",
    "    # iterate over levels of prevalence...\n",
    "    for a_idx, a in tqdm.tqdm_notebook(enumerate(prevs), total=no_entries):\n",
    "        # ... and bias\n",
    "        for b_idx, b in enumerate(biases):\n",
    "            # get ground truth references and predicted labels\n",
    "            ground_truth, improved_prediction = generate_classes_and_labels(lookup_fraction, a, b)\n",
    "\n",
    "            # calculate BM, MCC and MK and store them in the corresponding arrays\n",
    "            if improved_prediction is not None:\n",
    "                bm_array[a_idx, b_idx] = bm(ground_truth, improved_prediction)\n",
    "                mcc_array[a_idx, b_idx] = matthews_corrcoef(ground_truth, improved_prediction)\n",
    "                mk_array[a_idx, b_idx] = mk(ground_truth, improved_prediction)\n",
    "            else:\n",
    "                bm_array[a_idx, b_idx] = np.nan\n",
    "                mcc_array[a_idx, b_idx] = np.nan\n",
    "                mk_array[a_idx, b_idx] = np.nan               \n",
    "            \n",
    "    array_store[lookup_fraction] = {'BM': bm_array, 'MCC': mcc_array, 'MK': mk_array}"
   ]
  },
  {
   "cell_type": "markdown",
   "metadata": {},
   "source": [
    "# Plot the results"
   ]
  },
  {
   "cell_type": "markdown",
   "metadata": {},
   "source": [
    "Define full names for prettier plotting"
   ]
  },
  {
   "cell_type": "code",
   "execution_count": 9,
   "metadata": {},
   "outputs": [],
   "source": [
    "full_names = {'BM': \"bookmaker's informedness \\n (BM)\",\n",
    "              'MCC': \"Matthews correlation coefficient \\n (MCC)\",\n",
    "              'MK': \"markedness \\n (MK)\"}"
   ]
  },
  {
   "cell_type": "code",
   "execution_count": 10,
   "metadata": {},
   "outputs": [
    {
     "name": "stderr",
     "output_type": "stream",
     "text": [
      "<ipython-input-10-2c1da670b561>:29: UserWarning: This figure includes Axes that are not compatible with tight_layout, so results might be incorrect.\n",
      "  plt.tight_layout()\n"
     ]
    },
    {
     "data": {
      "image/png": "[encoded data removed]",
      "text/plain": [
       "<Figure size 720x720 with 10 Axes>"
      ]
     },
     "metadata": {
      "needs_background": "light"
     },
     "output_type": "display_data"
    }
   ],
   "source": [
    "fig, axes = plt.subplots(nrows=3, ncols=3, figsize=(10, 10), sharex=True, sharey=True)\n",
    "cbar_ax = fig.add_axes([.95, .125, .03, .75])\n",
    "\n",
    "for col, i in enumerate([0.25, 0.5, 0.75]):\n",
    "    for row, metric in enumerate(['BM', 'MCC', 'MK']):\n",
    "        curr_df = pd.DataFrame(array_store[i][metric], \n",
    "                               index=['%3.2f' %x for x in prevs],\n",
    "                               columns=['%3.2f' %x for x in biases])\n",
    "        sns.heatmap(curr_df, vmin=0, vmax=1, ax=axes[col, row],                 \n",
    "                    cbar_ax=cbar_ax,\n",
    "                    cmap='Greys',\n",
    "                    cbar_kws={\"ticks\":[0., 0.25, 0.5, 0.75, 1.]})\n",
    "        axes[col, row].invert_yaxis()\n",
    "    \n",
    "        if col == 0:\n",
    "            axes[0, row].set_title(full_names[metric], pad=30)           \n",
    "    \n",
    "        if row == 0:\n",
    "            axes[row, col].set_ylabel('')\n",
    "        \n",
    "        if col == row:\n",
    "            text = axes[col, 1].text(no_entries / 2, no_entries + 1, 'lookup fraction: %2.0f' % int(i *100) + '%',\n",
    "                                    horizontalalignment='center')            \n",
    "\n",
    "axes[1,0].set_ylabel('prevalence')\n",
    "axes[2,1].set_xlabel('bias')\n",
    "plt.subplots_adjust(wspace=0.2, hspace=0.2)\n",
    "plt.savefig('randomness_measured_BM_MCC_MK.eps',bbox_inches='tight')\n",
    "plt.tight_layout()"
   ]
  }
 ],
 "metadata": {
  "kernelspec": {
   "display_name": "Python 3",
   "language": "python",
   "name": "python3"
  },
  "language_info": {
   "codemirror_mode": {
    "name": "ipython",
    "version": 3
   },
   "file_extension": ".py",
   "mimetype": "text/x-python",
   "name": "python",
   "nbconvert_exporter": "python",
   "pygments_lexer": "ipython3",
   "version": "3.8.2"
  }
 },
 "nbformat": 4,
 "nbformat_minor": 2
}
